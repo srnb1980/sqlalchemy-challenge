{
 "cells": [
  {
   "cell_type": "code",
   "execution_count": 1,
   "metadata": {},
   "outputs": [],
   "source": [
    "%matplotlib inline\n",
    "from matplotlib import style\n",
    "style.use('fivethirtyeight')\n",
    "import matplotlib.pyplot as plt"
   ]
  },
  {
   "cell_type": "code",
   "execution_count": 2,
   "metadata": {},
   "outputs": [],
   "source": [
    "import numpy as np\n",
    "import pandas as pd"
   ]
  },
  {
   "cell_type": "code",
   "execution_count": 3,
   "metadata": {},
   "outputs": [],
   "source": [
    "import datetime as dt"
   ]
  },
  {
   "cell_type": "markdown",
   "metadata": {},
   "source": [
    "# Reflect Tables into SQLAlchemy ORM"
   ]
  },
  {
   "cell_type": "code",
   "execution_count": 4,
   "metadata": {},
   "outputs": [],
   "source": [
    "# Python SQL toolkit and Object Relational Mapper\n",
    "import sqlalchemy\n",
    "from sqlalchemy.ext.automap import automap_base\n",
    "from sqlalchemy.orm import Session\n",
    "from sqlalchemy import create_engine, func"
   ]
  },
  {
   "cell_type": "code",
   "execution_count": 5,
   "metadata": {},
   "outputs": [],
   "source": [
    "engine = create_engine(\"sqlite:///Resources/hawaii.sqlite\")"
   ]
  },
  {
   "cell_type": "code",
   "execution_count": 6,
   "metadata": {},
   "outputs": [],
   "source": [
    "# reflect an existing database into a new model\n",
    "Base = automap_base()\n",
    "Base.prepare(engine, reflect=True)\n",
    "# reflect the tables"
   ]
  },
  {
   "cell_type": "code",
   "execution_count": 7,
   "metadata": {},
   "outputs": [
    {
     "data": {
      "text/plain": [
       "['measurement', 'station']"
      ]
     },
     "execution_count": 7,
     "metadata": {},
     "output_type": "execute_result"
    }
   ],
   "source": [
    "# We can view all of the classes that automap found\n",
    "Base.classes.keys()"
   ]
  },
  {
   "cell_type": "code",
   "execution_count": 8,
   "metadata": {},
   "outputs": [],
   "source": [
    "# Save references to each table\n",
    "Measurement = Base.classes.measurement\n",
    "Station=Base.classes.station"
   ]
  },
  {
   "cell_type": "code",
   "execution_count": 9,
   "metadata": {},
   "outputs": [],
   "source": [
    "# Create our session (link) from Python to the DB\n",
    "session = Session(engine)"
   ]
  },
  {
   "cell_type": "code",
   "execution_count": 10,
   "metadata": {},
   "outputs": [
    {
     "data": {
      "text/plain": [
       "{'_sa_instance_state': <sqlalchemy.orm.state.InstanceState at 0x1c1efcfb908>,\n",
       " 'prcp': 0.45,\n",
       " 'id': 19550,\n",
       " 'station': 'USC00516128',\n",
       " 'tobs': 76.0,\n",
       " 'date': '2017-08-23'}"
      ]
     },
     "execution_count": 10,
     "metadata": {},
     "output_type": "execute_result"
    }
   ],
   "source": [
    "\n",
    "#last_row = session.query.order_by(Measurement.id.desc()).first()\n",
    "last_row = session.query(Measurement).order_by(Measurement.id.desc()).first()\n",
    "last_row.__dict__\n"
   ]
  },
  {
   "cell_type": "markdown",
   "metadata": {},
   "source": [
    "# Exploratory Climate Analysis"
   ]
  },
  {
   "cell_type": "code",
   "execution_count": 23,
   "metadata": {},
   "outputs": [
    {
     "name": "stdout",
     "output_type": "stream",
     "text": [
      "2017-08-23\n",
      "2016-08-23\n"
     ]
    },
    {
     "data": {
      "text/plain": [
       "Text(0, 0.5, 'Inches')"
      ]
     },
     "execution_count": 23,
     "metadata": {},
     "output_type": "execute_result"
    },
    {
     "data": {
      "image/png": "[encoded data removed]",
      "text/plain": [
       "<Figure size 720x216 with 1 Axes>"
      ]
     },
     "metadata": {},
     "output_type": "display_data"
    }
   ],
   "source": [
    "# Design a query to retrieve the last 12 months of precipitation data and plot the results\n",
    "\n",
    "# Calculate the date 1 year ago from the last data point in the database\n",
    "from datetime import datetime\n",
    "current_date=last_row.date\n",
    "print(current_date)\n",
    "current_date_dt = datetime.strptime(current_date, '%Y-%m-%d').date()\n",
    "current_date_dt\n",
    "\n",
    "from dateutil.relativedelta import relativedelta\n",
    "#import datetime\n",
    "Date_One_Year_Ago= current_date_dt - relativedelta(years=1)\n",
    "\n",
    "print(Date_One_Year_Ago)\n",
    "\n",
    "# Perform a query to retrieve the data and precipitation scores\n",
    "\n",
    "One_year_data = session.query(Measurement).filter(Measurement.date >= Date_One_Year_Ago )\n",
    "\n",
    "from pandas import DataFrame\n",
    "import matplotlib.pyplot as plt\n",
    "import matplotlib.ticker as ticker\n",
    "import matplotlib.dates as mdates\n",
    "from matplotlib.dates import DateFormatter\n",
    "prcp_df = pd.DataFrame([(d.date, d.prcp) for d in One_year_data], \n",
    "                  columns=['Date', 'Precipitation']).sort_values('Date')\n",
    "prcp_df\n",
    "\n",
    "# # Save the query results as a Pandas DataFrame and set the index to the date column\n",
    "new_prcp_df = prcp_df.set_index('Date')\n",
    "new_prcp_df\n",
    " # Sort the dataframe by date\n",
    "final_prcp_df=new_prcp_df.sort_index(axis = 0)\n",
    "final_prcp_df\n",
    "final_prcp_df.dropna(inplace=True)\n",
    "final_prcp_df\n",
    "# new_final_prcp_df=final_prcp_df.groupby(\"Date\")[\"Precipitation\"].mean().reset_index(name='AvgPrcp')\n",
    "# new_final_prcp_df\n",
    "# Use Pandas Plotting with Matplotlib to plot the data\n",
    "x=final_prcp_df.index.values\n",
    "y=final_prcp_df[\"Precipitation\"]\n",
    "#final_prcp_df.plot(kind='bar',color='skyblue',alpha=0.5, align=\"center\")\n",
    "#fig, ax = plt.subplots()\n",
    "fig, ax = plt.subplots(figsize=(10,3)) \n",
    "#ax.bar(x, y,color='blue',alpha=0.5, align=\"center\")\n",
    "#plt.MaxNLocator(numticks=10)\n",
    "#plt.locator_params(numticks=12)\n",
    "#plt.set_major_locator(ticker.MaxNLocator(12))\n",
    "#plt.locator_params(axis='x', nbins=10)\n",
    "#plt.setp(ax.get_xticklabels(), rotation=180, ha='right')\n",
    "#ax.xaxis.set_major_locator(mdates.MonthLocator()) \n",
    "#ax.xaxis.set_major_formatter(mdates.DateFormatter('%Y%m%d')) \n",
    "#plt.xticks(np.arange(min(x), max(x), step=10))\n",
    "#plt.gcf().autofmt_xdate()\n",
    "#plt.style.use('ggplot')\n",
    "plt.plot(x,y)\n",
    "#plt.gcf().autofmt_xdate()\n",
    "ax.tick_params(axis=\"x\", labelsize=30)\n",
    "plt.title(\"Climate Analysis\")\n",
    "plt.xlabel(\"Date\")\n",
    "plt.ylabel(\"Inches\")\n",
    "#plt.gca().xaxis.set_major_locator(mdates.MonthLocator())\n",
    "#plt.gca().xaxis.set_major_formatter(mdates.DateFormatter('%m/%d/%Y'))\n",
    "#plt.show()\n"
   ]
  },
  {
   "cell_type": "markdown",
   "metadata": {},
   "source": [
    "###### Use Pandas to calcualte the summary statistics for the precipitation \n",
    "final_prcp_df.describe()"
   ]
  },
  {
   "cell_type": "code",
   "execution_count": 13,
   "metadata": {},
   "outputs": [
    {
     "name": "stdout",
     "output_type": "stream",
     "text": [
      "('USC00519397',)\n",
      "('USC00513117',)\n",
      "('USC00514830',)\n",
      "('USC00517948',)\n",
      "('USC00518838',)\n",
      "('USC00519523',)\n",
      "('USC00519281',)\n",
      "('USC00511918',)\n",
      "('USC00516128',)\n"
     ]
    }
   ],
   "source": [
    "# Design a query to show how many stations are available in this dataset?\n",
    "last_row = session.query(Station).order_by(Station.id.desc()).first()\n",
    "last_row.__dict__\n",
    "Distinct_Stations = session.query(Measurement.station).distinct()\n",
    "for station in Distinct_Stations:\n",
    "    print(station)"
   ]
  },
  {
   "cell_type": "code",
   "execution_count": 14,
   "metadata": {},
   "outputs": [
    {
     "name": "stdout",
     "output_type": "stream",
     "text": [
      "('USC00519281', 2772)\n",
      "('USC00519397', 2724)\n",
      "('USC00513117', 2709)\n",
      "('USC00519523', 2669)\n",
      "('USC00516128', 2612)\n",
      "('USC00514830', 2202)\n",
      "('USC00511918', 1979)\n",
      "('USC00517948', 1372)\n",
      "('USC00518838', 511)\n"
     ]
    }
   ],
   "source": [
    "# What are the most active stations? (i.e. what stations have the most rows)?\n",
    "# List the stations and the counts in descending order.\n",
    "Active_Stations=session.query(Measurement.station,func.count(Measurement.station).label(\"Count\")).group_by(Measurement.station).order_by(func.count(Measurement.station).desc()).all()\n",
    "for station in Active_Stations:\n",
    "    print(station)"
   ]
  },
  {
   "cell_type": "code",
   "execution_count": 15,
   "metadata": {},
   "outputs": [
    {
     "name": "stdout",
     "output_type": "stream",
     "text": [
      "54.0\n",
      "85.0\n",
      "71.66378066378067\n"
     ]
    }
   ],
   "source": [
    "# Using the station id from the previous query, calculate the lowest temperature recorded, \n",
    "# highest temperature recorded, and average temperature of the most active station?\n",
    "\n",
    "Most_Active_Station=session.query(Measurement.station,func.count(Measurement.station).label(\"Count\")).group_by(Measurement.station).order_by(func.count(Measurement.station).desc()).first()\n",
    "Most_Act_Station_Name=Most_Active_Station.station\n",
    "Details=session.query(Measurement.station,Measurement.tobs).filter(Measurement.station==Most_Act_Station_Name)\n",
    "Lowest_Temparature=session.query(func.min(Measurement.tobs).label('low_temp')).filter(Measurement.station==Most_Act_Station_Name)                               \n",
    "Highest_Temparature=session.query(func.max(Measurement.tobs).label('max_temp')).filter(Measurement.station==Most_Act_Station_Name)                                                                \n",
    "Average_Temparature=session.query(func.avg(Measurement.tobs).label('avg_temp')).filter(Measurement.station==Most_Act_Station_Name)  \n",
    "#Average_Temparature=session.query(func.avg(Measurement.tobs).label('avg_temp')).filter(Measurement.station==Most_Act_Station_Name)\n",
    "for temp in Lowest_Temparature:\n",
    "    print(temp.low_temp)\n",
    "for temp in Highest_Temparature:\n",
    "    print(temp.max_temp)\n",
    "for temp in Average_Temparature:\n",
    "    print(temp.avg_temp)"
   ]
  },
  {
   "cell_type": "code",
   "execution_count": 16,
   "metadata": {},
   "outputs": [
    {
     "data": {
      "image/png": "[encoded data removed]",
      "text/plain": [
       "<Figure size 432x288 with 1 Axes>"
      ]
     },
     "metadata": {},
     "output_type": "display_data"
    }
   ],
   "source": [
    "# Choose the station with the highest number of temperature observations.\n",
    "# Query the last 12 months of temperature observation data for this station and plot the results as a histogram\n",
    "Average_Temparature=session.query(func.avg(Measurement.tobs).label('avg_temp')).filter(Measurement.station==Most_Act_Station_Name)  \n",
    "\n",
    "One_year_data_Act_Stn = session.query(Measurement.tobs).filter(Measurement.date >= Date_One_Year_Ago ).filter(Measurement.station==Most_Act_Station_Name)\n",
    "tobs_df=pd.DataFrame([(d.tobs) for d in One_year_data_Act_Stn], \n",
    "                  columns=['TOBS'])\n",
    "#tobs_df['Count']=1\n",
    "#new_tobs_df = tobs_df.set_index('TOBS')\n",
    "#new_tobs_df\n",
    "# Sort the dataframe by date\n",
    "#final_tobs_df=new_tobs_df.sort_index(axis = 0)\n",
    "#final_tobs_df\n",
    "#final_tobs_df.dropna(inplace=True)\n",
    "#final_tobs_df\n",
    "#new_final_tobs_df=final_tobs_df.groupby(\"TOBS\")[\"Count\"].sum().reset_index(name='Frequency')\n",
    "#new_final_tobs_df\n",
    "plt.hist(tobs_df[\"TOBS\"],bins=12, color=\"skyblue\")\n",
    "plt.xlabel(\"Temperatures\")\n",
    "plt.ylabel(\"Frequency\")\n",
    "plt.legend(['tobs'])\n",
    "plt.style.use('ggplot')\n",
    "plt.title(\"Most Active Station - Temperature vs Frequency\")\n",
    "plt.show()\n",
    "\n",
    "#new_tobs_df=tobs_df.groupby(\"TOBS\").count().reset_index()\n",
    "#new_tobs_df"
   ]
  },
  {
   "cell_type": "markdown",
   "metadata": {},
   "source": [
    "## Bonus Challenge Assignment"
   ]
  },
  {
   "cell_type": "code",
   "execution_count": 24,
   "metadata": {},
   "outputs": [
    {
     "name": "stdout",
     "output_type": "stream",
     "text": [
      "[(62.0, 69.57142857142857, 74.0)]\n"
     ]
    }
   ],
   "source": [
    "# This function called `calc_temps` will accept start date and end date in the format '%Y-%m-%d' \n",
    "# and return the minimum, average, and maximum temperatures for that range of dates\n",
    "def calc_temps(start_date, end_date):\n",
    "    \"\"\"TMIN, TAVG, and TMAX for a list of dates.\n",
    "    \n",
    "    Args:\n",
    "        start_date (string): A date string in the format %Y-%m-%d\n",
    "        end_date (string): A date string in the format %Y-%m-%d\n",
    "        \n",
    "    Returns:\n",
    "        TMIN, TAVE, and TMAX\n",
    "    \"\"\"\n",
    "    \n",
    "    return session.query(func.min(Measurement.tobs), func.avg(Measurement.tobs), func.max(Measurement.tobs)).\\\n",
    "        filter(Measurement.date >= start_date).filter(Measurement.date <= end_date).all()\n",
    "\n",
    "# function usage example\n",
    "print(calc_temps('2012-02-28', '2012-03-05'))"
   ]
  },
  {
   "cell_type": "code",
   "execution_count": 65,
   "metadata": {},
   "outputs": [
    {
     "name": "stdout",
     "output_type": "stream",
     "text": [
      "[(62.0, 69.88636363636364, 80.0)]\n"
     ]
    }
   ],
   "source": [
    "# Use your previous function `calc_temps` to calculate the tmin, tavg, and tmax \n",
    "# for your trip using the previous year's data for those same dates.\n",
    "print(calc_temps('2016-02-28', '2016-03-05'))\n"
   ]
  },
  {
   "cell_type": "code",
   "execution_count": 26,
   "metadata": {},
   "outputs": [],
   "source": [
    "# Plot the results from your previous query as a bar chart. \n",
    "# Use \"Trip Avg Temp\" as your Title\n",
    "# Use the average temperature for the y value\n",
    "# Use the peak-to-peak (tmax-tmin) value as the y error bar (yerr)\n"
   ]
  },
  {
   "cell_type": "code",
   "execution_count": 27,
   "metadata": {},
   "outputs": [],
   "source": [
    "# Calculate the total amount of rainfall per weather station for your trip dates using the previous year's matching dates.\n",
    "# Sort this in descending order by precipitation amount and list the station, name, latitude, longitude, and elevation\n",
    "\n"
   ]
  },
  {
   "cell_type": "code",
   "execution_count": 28,
   "metadata": {},
   "outputs": [
    {
     "data": {
      "text/plain": [
       "[(62.0, 69.15384615384616, 77.0)]"
      ]
     },
     "execution_count": 28,
     "metadata": {},
     "output_type": "execute_result"
    }
   ],
   "source": [
    "# Create a query that will calculate the daily normals \n",
    "# (i.e. the averages for tmin, tmax, and tavg for all historic data matching a specific month and day)\n",
    "\n",
    "def daily_normals(date):\n",
    "    \"\"\"Daily Normals.\n",
    "    \n",
    "    Args:\n",
    "        date (str): A date string in the format '%m-%d'\n",
    "        \n",
    "    Returns:\n",
    "        A list of tuples containing the daily normals, tmin, tavg, and tmax\n",
    "    \n",
    "    \"\"\"\n",
    "    \n",
    "    sel = [func.min(Measurement.tobs), func.avg(Measurement.tobs), func.max(Measurement.tobs)]\n",
    "    return session.query(*sel).filter(func.strftime(\"%m-%d\", Measurement.date) == date).all()\n",
    "    \n",
    "daily_normals(\"01-01\")"
   ]
  },
  {
   "cell_type": "code",
   "execution_count": 49,
   "metadata": {},
   "outputs": [
    {
     "data": {
      "text/html": [
       "<div>\n",
       "<style scoped>\n",
       "    .dataframe tbody tr th:only-of-type {\n",
       "        vertical-align: middle;\n",
       "    }\n",
       "\n",
       "    .dataframe tbody tr th {\n",
       "        vertical-align: top;\n",
       "    }\n",
       "\n",
       "    .dataframe thead th {\n",
       "        text-align: right;\n",
       "    }\n",
       "</style>\n",
       "<table border=\"1\" class=\"dataframe\">\n",
       "  <thead>\n",
       "    <tr style=\"text-align: right;\">\n",
       "      <th></th>\n",
       "      <th>TMIN</th>\n",
       "      <th>TAVG</th>\n",
       "      <th>TMAX</th>\n",
       "    </tr>\n",
       "  </thead>\n",
       "  <tbody>\n",
       "    <tr>\n",
       "      <th>0</th>\n",
       "      <td>60.0</td>\n",
       "      <td>67.890909</td>\n",
       "      <td>76.0</td>\n",
       "    </tr>\n",
       "    <tr>\n",
       "      <th>1</th>\n",
       "      <td>57.0</td>\n",
       "      <td>69.272727</td>\n",
       "      <td>77.0</td>\n",
       "    </tr>\n",
       "    <tr>\n",
       "      <th>2</th>\n",
       "      <td>60.0</td>\n",
       "      <td>70.068966</td>\n",
       "      <td>78.0</td>\n",
       "    </tr>\n",
       "    <tr>\n",
       "      <th>3</th>\n",
       "      <td>61.0</td>\n",
       "      <td>70.366667</td>\n",
       "      <td>78.0</td>\n",
       "    </tr>\n",
       "    <tr>\n",
       "      <th>4</th>\n",
       "      <td>64.0</td>\n",
       "      <td>70.032787</td>\n",
       "      <td>76.0</td>\n",
       "    </tr>\n",
       "    <tr>\n",
       "      <th>5</th>\n",
       "      <td>65.0</td>\n",
       "      <td>70.655172</td>\n",
       "      <td>80.0</td>\n",
       "    </tr>\n",
       "    <tr>\n",
       "      <th>6</th>\n",
       "      <td>58.0</td>\n",
       "      <td>69.981481</td>\n",
       "      <td>77.0</td>\n",
       "    </tr>\n",
       "    <tr>\n",
       "      <th>7</th>\n",
       "      <td>62.0</td>\n",
       "      <td>69.892857</td>\n",
       "      <td>78.0</td>\n",
       "    </tr>\n",
       "    <tr>\n",
       "      <th>8</th>\n",
       "      <td>61.0</td>\n",
       "      <td>68.596491</td>\n",
       "      <td>76.0</td>\n",
       "    </tr>\n",
       "    <tr>\n",
       "      <th>9</th>\n",
       "      <td>61.0</td>\n",
       "      <td>68.566667</td>\n",
       "      <td>76.0</td>\n",
       "    </tr>\n",
       "    <tr>\n",
       "      <th>10</th>\n",
       "      <td>62.0</td>\n",
       "      <td>70.355932</td>\n",
       "      <td>81.0</td>\n",
       "    </tr>\n",
       "    <tr>\n",
       "      <th>11</th>\n",
       "      <td>60.0</td>\n",
       "      <td>70.157895</td>\n",
       "      <td>83.0</td>\n",
       "    </tr>\n",
       "    <tr>\n",
       "      <th>12</th>\n",
       "      <td>63.0</td>\n",
       "      <td>69.796296</td>\n",
       "      <td>76.0</td>\n",
       "    </tr>\n",
       "    <tr>\n",
       "      <th>13</th>\n",
       "      <td>63.0</td>\n",
       "      <td>70.140351</td>\n",
       "      <td>76.0</td>\n",
       "    </tr>\n",
       "  </tbody>\n",
       "</table>\n",
       "</div>"
      ],
      "text/plain": [
       "    TMIN       TAVG  TMAX\n",
       "0   60.0  67.890909  76.0\n",
       "1   57.0  69.272727  77.0\n",
       "2   60.0  70.068966  78.0\n",
       "3   61.0  70.366667  78.0\n",
       "4   64.0  70.032787  76.0\n",
       "5   65.0  70.655172  80.0\n",
       "6   58.0  69.981481  77.0\n",
       "7   62.0  69.892857  78.0\n",
       "8   61.0  68.596491  76.0\n",
       "9   61.0  68.566667  76.0\n",
       "10  62.0  70.355932  81.0\n",
       "11  60.0  70.157895  83.0\n",
       "12  63.0  69.796296  76.0\n",
       "13  63.0  70.140351  76.0"
      ]
     },
     "execution_count": 49,
     "metadata": {},
     "output_type": "execute_result"
    }
   ],
   "source": [
    "# calculate the daily normals for your trip\n",
    "# push each tuple of calculations into a list called `normals`\n",
    "from datetime import datetime as dt\n",
    "# Set the start and end date of the trip\n",
    "trip_start_date='2017-02-20'\n",
    "trip_end_date='2017-03-05'\n",
    "\n",
    "# Use the start and end date to create a range of dates\n",
    "mytripdates = pd.date_range(trip_start_date, trip_end_date).tolist()\n",
    "mytripdates\n",
    "mytruedates=[]\n",
    "mymonthdaylist=[]\n",
    "# Stip off the year and save a list of %m-%d strings\n",
    "for date in mytripdates:\n",
    "    new_date=date.strftime('%Y-%m-%d')\n",
    "    mytruedates.append(new_date)\n",
    "    stripped_date='{:%m-%d}'.format(dt.strptime(new_date, '%Y-%m-%d'))\n",
    "    mymonthdaylist.append(stripped_date) \n",
    "mymonthdaylist\n",
    "# Loop through the list of %m-%d strings and calculate the normals for each date\n",
    "\n",
    "daily_normal_df=pd.DataFrame()\n",
    "daily_normal_df = pd.DataFrame(columns=(\"TMIN\",\"TAVG\",\"TMAX\"))\n",
    "\n",
    "for monthday in mymonthdaylist:\n",
    "    daily_normal=daily_normals(monthday)\n",
    "    for TMP in daily_normal:\n",
    "        daily_normal_df.loc[-1] = [TMP[0],TMP[1],TMP[2]]\n",
    "        daily_normal_df.index = daily_normal_df.index + 1 \n",
    "daily_normal_df = daily_normal_df.sort_index()\n",
    "daily_normal_df\n"
   ]
  },
  {
   "cell_type": "code",
   "execution_count": 52,
   "metadata": {},
   "outputs": [
    {
     "data": {
      "text/html": [
       "<div>\n",
       "<style scoped>\n",
       "    .dataframe tbody tr th:only-of-type {\n",
       "        vertical-align: middle;\n",
       "    }\n",
       "\n",
       "    .dataframe tbody tr th {\n",
       "        vertical-align: top;\n",
       "    }\n",
       "\n",
       "    .dataframe thead th {\n",
       "        text-align: right;\n",
       "    }\n",
       "</style>\n",
       "<table border=\"1\" class=\"dataframe\">\n",
       "  <thead>\n",
       "    <tr style=\"text-align: right;\">\n",
       "      <th></th>\n",
       "      <th>TMIN</th>\n",
       "      <th>TAVG</th>\n",
       "      <th>TMAX</th>\n",
       "    </tr>\n",
       "    <tr>\n",
       "      <th>TripDate</th>\n",
       "      <th></th>\n",
       "      <th></th>\n",
       "      <th></th>\n",
       "    </tr>\n",
       "  </thead>\n",
       "  <tbody>\n",
       "    <tr>\n",
       "      <th>2017-02-20</th>\n",
       "      <td>60.0</td>\n",
       "      <td>67.890909</td>\n",
       "      <td>76.0</td>\n",
       "    </tr>\n",
       "    <tr>\n",
       "      <th>2017-02-21</th>\n",
       "      <td>57.0</td>\n",
       "      <td>69.272727</td>\n",
       "      <td>77.0</td>\n",
       "    </tr>\n",
       "    <tr>\n",
       "      <th>2017-02-22</th>\n",
       "      <td>60.0</td>\n",
       "      <td>70.068966</td>\n",
       "      <td>78.0</td>\n",
       "    </tr>\n",
       "    <tr>\n",
       "      <th>2017-02-23</th>\n",
       "      <td>61.0</td>\n",
       "      <td>70.366667</td>\n",
       "      <td>78.0</td>\n",
       "    </tr>\n",
       "    <tr>\n",
       "      <th>2017-02-24</th>\n",
       "      <td>64.0</td>\n",
       "      <td>70.032787</td>\n",
       "      <td>76.0</td>\n",
       "    </tr>\n",
       "    <tr>\n",
       "      <th>2017-02-25</th>\n",
       "      <td>65.0</td>\n",
       "      <td>70.655172</td>\n",
       "      <td>80.0</td>\n",
       "    </tr>\n",
       "    <tr>\n",
       "      <th>2017-02-26</th>\n",
       "      <td>58.0</td>\n",
       "      <td>69.981481</td>\n",
       "      <td>77.0</td>\n",
       "    </tr>\n",
       "    <tr>\n",
       "      <th>2017-02-27</th>\n",
       "      <td>62.0</td>\n",
       "      <td>69.892857</td>\n",
       "      <td>78.0</td>\n",
       "    </tr>\n",
       "    <tr>\n",
       "      <th>2017-02-28</th>\n",
       "      <td>61.0</td>\n",
       "      <td>68.596491</td>\n",
       "      <td>76.0</td>\n",
       "    </tr>\n",
       "    <tr>\n",
       "      <th>2017-03-01</th>\n",
       "      <td>61.0</td>\n",
       "      <td>68.566667</td>\n",
       "      <td>76.0</td>\n",
       "    </tr>\n",
       "    <tr>\n",
       "      <th>2017-03-02</th>\n",
       "      <td>62.0</td>\n",
       "      <td>70.355932</td>\n",
       "      <td>81.0</td>\n",
       "    </tr>\n",
       "    <tr>\n",
       "      <th>2017-03-03</th>\n",
       "      <td>60.0</td>\n",
       "      <td>70.157895</td>\n",
       "      <td>83.0</td>\n",
       "    </tr>\n",
       "    <tr>\n",
       "      <th>2017-03-04</th>\n",
       "      <td>63.0</td>\n",
       "      <td>69.796296</td>\n",
       "      <td>76.0</td>\n",
       "    </tr>\n",
       "    <tr>\n",
       "      <th>2017-03-05</th>\n",
       "      <td>63.0</td>\n",
       "      <td>70.140351</td>\n",
       "      <td>76.0</td>\n",
       "    </tr>\n",
       "  </tbody>\n",
       "</table>\n",
       "</div>"
      ],
      "text/plain": [
       "            TMIN       TAVG  TMAX\n",
       "TripDate                         \n",
       "2017-02-20  60.0  67.890909  76.0\n",
       "2017-02-21  57.0  69.272727  77.0\n",
       "2017-02-22  60.0  70.068966  78.0\n",
       "2017-02-23  61.0  70.366667  78.0\n",
       "2017-02-24  64.0  70.032787  76.0\n",
       "2017-02-25  65.0  70.655172  80.0\n",
       "2017-02-26  58.0  69.981481  77.0\n",
       "2017-02-27  62.0  69.892857  78.0\n",
       "2017-02-28  61.0  68.596491  76.0\n",
       "2017-03-01  61.0  68.566667  76.0\n",
       "2017-03-02  62.0  70.355932  81.0\n",
       "2017-03-03  60.0  70.157895  83.0\n",
       "2017-03-04  63.0  69.796296  76.0\n",
       "2017-03-05  63.0  70.140351  76.0"
      ]
     },
     "execution_count": 52,
     "metadata": {},
     "output_type": "execute_result"
    }
   ],
   "source": [
    "# Load the previous query results into a Pandas DataFrame and add the `trip_dates` range as the `date` index\n",
    "mytruedates\n",
    "daily_normal_df[\"TripDate\"]=mytruedates\n",
    "daily_normal_df\n",
    "new_daily_normal_df = daily_normal_df.set_index('TripDate')\n",
    "new_daily_normal_df\n",
    " # Sort the dataframe by date\n",
    "final_daily_normal_df=new_daily_normal_df.sort_index(axis = 0)\n",
    "final_daily_normal_df"
   ]
  },
  {
   "cell_type": "code",
   "execution_count": 63,
   "metadata": {},
   "outputs": [
    {
     "data": {
      "text/plain": [
       "(array([-2.,  0.,  2.,  4.,  6.,  8., 10., 12., 14.]),\n",
       " <a list of 9 Text xticklabel objects>)"
      ]
     },
     "execution_count": 63,
     "metadata": {},
     "output_type": "execute_result"
    },
    {
     "data": {
      "image/png": "[encoded data removed]",
      "text/plain": [
       "<Figure size 432x288 with 1 Axes>"
      ]
     },
     "metadata": {},
     "output_type": "display_data"
    }
   ],
   "source": [
    "# Plot the daily normals as an area plot with `stacked=False` \n",
    "final_daily_normal_df.plot(kind='area',stacked=False)\n",
    "plt.xticks(rotation=45)"
   ]
  },
  {
   "cell_type": "code",
   "execution_count": null,
   "metadata": {},
   "outputs": [],
   "source": []
  }
 ],
 "metadata": {
  "kernel_info": {
   "name": "python3"
  },
  "kernelspec": {
   "display_name": "Python [conda env:.conda-PythonData] *",
   "language": "python",
   "name": "conda-env-.conda-PythonData-py"
  },
  "language_info": {
   "codemirror_mode": {
    "name": "ipython",
    "version": 3
   },
   "file_extension": ".py",
   "mimetype": "text/x-python",
   "name": "python",
   "nbconvert_exporter": "python",
   "pygments_lexer": "ipython3",
   "version": "3.6.10"
  },
  "nteract": {
   "version": "0.12.3"
  },
  "varInspector": {
   "cols": {
    "lenName": 16,
    "lenType": 16,
    "lenVar": 40
   },
   "kernels_config": {
    "python": {
     "delete_cmd_postfix": "",
     "delete_cmd_prefix": "del ",
     "library": "var_list.py",
     "varRefreshCmd": "print(var_dic_list())"
    },
    "r": {
     "delete_cmd_postfix": ") ",
     "delete_cmd_prefix": "rm(",
     "library": "var_list.r",
     "varRefreshCmd": "cat(var_dic_list()) "
    }
   },
   "types_to_exclude": [
    "module",
    "function",
    "builtin_function_or_method",
    "instance",
    "_Feature"
   ],
   "window_display": false
  }
 },
 "nbformat": 4,
 "nbformat_minor": 2
}
